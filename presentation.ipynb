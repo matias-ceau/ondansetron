{
 "cells": [
  {
   "cell_type": "markdown",
   "metadata": {},
   "source": [
    "# Ondansetron in Alcohol Use Disorder: A Systematic Review\n",
    "\n",
    "**A presentation of the main findings**"
   ]
  },
  {
   "cell_type": "markdown",
   "metadata": {},
   "source": [
    "## The Problem: Alcohol Use Disorder (AUD)\n",
    "\n",
    "- A complex, chronic condition with significant global impact.\n",
    "- Existing treatments have variable efficacy, highlighting the need for personalized medicine."
   ]
  },
  {
   "cell_type": "markdown",
   "metadata": {},
   "source": [
    "## A Potential Solution: Ondansetron\n",
    "\n",
    "- A selective 5-HT3 receptor antagonist.\n",
    "- Shows promise in reducing alcohol consumption and craving, particularly in specific patient subgroups."
   ]
  },
  {
   "cell_type": "markdown",
   "metadata": {},
   "source": [
    "## Methods: A Systematic Review\n",
    "\n",
    "We conducted a systematic review of the literature to evaluate the efficacy of ondansetron for AUD.\n",
    "\n",
    "- **Databases Searched:** Pubmed, Wiley Online Library, Psychinfo, and Cochrane.\n",
    "- **Inclusion Criteria:** Peer-reviewed studies examining ondansetron's effects in individuals with AUD.\n",
    "- **Studies Included:** 19 clinical trials were analyzed."
   ]
  },
  {
   "cell_type": "markdown",
   "metadata": {},
   "source": [
    "### PRISMA Flowchart"
   ]
  },
  {
   "cell_type": "markdown",
   "metadata": {},
   "source": [
    "![PRISMA Flowchart](ressources/prisma_flowchart.png)"
   ]
  },
  {
   "cell_type": "markdown",
   "metadata": {},
   "source": [
    "## Key Findings: Alcohol Use Reduction\n",
    "\n",
    "Ondansetron demonstrated effectiveness in reducing alcohol consumption, but this effect was most pronounced in specific subgroups:"
   ]
  },
  {
   "cell_type": "markdown",
   "metadata": {},
   "source": [
    "### Early-Onset Alcoholism (EOA)\n",
    "\n",
    "- Patients who developed AUD at a younger age showed a significant reduction in:\n",
    "  - Drinks per day\n",
    